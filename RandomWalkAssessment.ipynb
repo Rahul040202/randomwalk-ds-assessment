{
 "cells": [
  {
   "cell_type": "code",
   "execution_count": 1,
   "id": "923aba0f-8c3d-4f22-a92d-23d73c15c72b",
   "metadata": {},
   "outputs": [],
   "source": [
    "import pandas as pd\n",
    "import numpy as np"
   ]
  },
  {
   "cell_type": "code",
   "execution_count": 2,
   "id": "86337e53-c03b-4f01-9363-eda0db7c6dfa",
   "metadata": {},
   "outputs": [],
   "source": [
    "books = pd.read_csv(\"books.csv\")"
   ]
  },
  {
   "cell_type": "code",
   "execution_count": 3,
   "id": "6e62392f-de58-4ec7-a659-55fd4682c151",
   "metadata": {},
   "outputs": [
    {
     "name": "stdout",
     "output_type": "stream",
     "text": [
      "<class 'pandas.core.frame.DataFrame'>\n",
      "RangeIndex: 399 entries, 0 to 398\n",
      "Data columns (total 24 columns):\n",
      " #   Column                     Non-Null Count  Dtype  \n",
      "---  ------                     --------------  -----  \n",
      " 0   book_id                    399 non-null    int64  \n",
      " 1   goodreads_book_id          399 non-null    int64  \n",
      " 2   best_book_id               399 non-null    int64  \n",
      " 3   work_id                    399 non-null    int64  \n",
      " 4   books_count                399 non-null    int64  \n",
      " 5   isbn                       388 non-null    object \n",
      " 6   isbn13                     389 non-null    float64\n",
      " 7   authors                    399 non-null    object \n",
      " 8   original_publication_year  399 non-null    float64\n",
      " 9   original_title             363 non-null    object \n",
      " 10  title                      399 non-null    object \n",
      " 11  language_code              356 non-null    object \n",
      " 12  average_rating             399 non-null    float64\n",
      " 13  ratings_count              399 non-null    int64  \n",
      " 14  work_ratings_count         399 non-null    int64  \n",
      " 15  work_text_reviews_count    399 non-null    int64  \n",
      " 16  ratings_1                  399 non-null    int64  \n",
      " 17  ratings_2                  399 non-null    int64  \n",
      " 18  ratings_3                  399 non-null    int64  \n",
      " 19  ratings_4                  399 non-null    int64  \n",
      " 20  ratings_5                  399 non-null    int64  \n",
      " 21  image_url                  399 non-null    object \n",
      " 22  small_image_url            399 non-null    object \n",
      " 23  NonEnglish                 399 non-null    int64  \n",
      "dtypes: float64(3), int64(14), object(7)\n",
      "memory usage: 74.9+ KB\n"
     ]
    }
   ],
   "source": [
    "books.info()"
   ]
  },
  {
   "cell_type": "code",
   "execution_count": 4,
   "id": "4733f115-0506-4acb-9709-003c8769ae53",
   "metadata": {},
   "outputs": [
    {
     "data": {
      "text/plain": [
       "Index(['book_id', 'goodreads_book_id', 'best_book_id', 'work_id',\n",
       "       'books_count', 'isbn', 'isbn13', 'authors', 'original_publication_year',\n",
       "       'original_title', 'title', 'language_code', 'average_rating',\n",
       "       'ratings_count', 'work_ratings_count', 'work_text_reviews_count',\n",
       "       'ratings_1', 'ratings_2', 'ratings_3', 'ratings_4', 'ratings_5',\n",
       "       'image_url', 'small_image_url', 'NonEnglish'],\n",
       "      dtype='object')"
      ]
     },
     "execution_count": 4,
     "metadata": {},
     "output_type": "execute_result"
    }
   ],
   "source": [
    "books.columns"
   ]
  },
  {
   "cell_type": "code",
   "execution_count": 5,
   "id": "2526f4c3-10e9-420c-8ac4-ff2471c622e9",
   "metadata": {},
   "outputs": [
    {
     "name": "stdout",
     "output_type": "stream",
     "text": [
      "399 rows and 24 columns are in books\n"
     ]
    }
   ],
   "source": [
    "#Q1: How many rows and columns are there in books.csv dataset?\n",
    "print(\"{} rows and {} columns are in books\".format(books.shape[0],books.shape[1]))"
   ]
  },
  {
   "cell_type": "code",
   "execution_count": 6,
   "id": "5d2686a6-cec0-4e96-a220-7a69c2b1078c",
   "metadata": {},
   "outputs": [
    {
     "name": "stdout",
     "output_type": "stream",
     "text": [
      "The number of books without original title are  36\n"
     ]
    }
   ],
   "source": [
    "#Q2: How many books do not have an original title?\n",
    "print(\"The number of books without original title are \",books['original_title'].isnull().sum())"
   ]
  },
  {
   "cell_type": "code",
   "execution_count": 7,
   "id": "c701a261-1f89-47aa-a463-17d559a09826",
   "metadata": {},
   "outputs": [
    {
     "name": "stdout",
     "output_type": "stream",
     "text": [
      "The number of unique books are 363\n"
     ]
    }
   ],
   "source": [
    "#Q3: How many unique books are present in the dataset ?\n",
    "# Evaluate based on the 'book_id' after removing null values in the original_title column.\n",
    "books.dropna(subset=\"original_title\",inplace=True)\n",
    "print(\"The number of unique books are\",books[\"book_id\"].nunique())"
   ]
  },
  {
   "cell_type": "code",
   "execution_count": 8,
   "id": "d93f9d8d-4e48-4e9b-9e2d-b011fda0b48a",
   "metadata": {},
   "outputs": [
    {
     "name": "stdout",
     "output_type": "stream",
     "text": [
      "The average rating of all the books is  3.987079889807162\n"
     ]
    }
   ],
   "source": [
    "#Q4: What is the average rating of all the books in the dataset based on ‘average_rating’?\n",
    "print(\"The average rating of all the books is \",books[\"average_rating\"].mean())"
   ]
  },
  {
   "cell_type": "code",
   "execution_count": 9,
   "id": "156660b2-287b-4240-b569-80bbcf80dee6",
   "metadata": {},
   "outputs": [
    {
     "name": "stdout",
     "output_type": "stream",
     "text": [
      "The number of books published in 2000 is  7\n"
     ]
    }
   ],
   "source": [
    "#Q5: Find the number of books published in the year ‘2000’ based on the ‘original_publication_year’.\n",
    "print(\"The number of books published in 2000 is \",books[books[\"original_publication_year\"]==2000].shape[0])\n"
   ]
  },
  {
   "cell_type": "code",
   "execution_count": 10,
   "id": "56f154e1-6e6f-4e3d-82e9-7b55ca3a18b3",
   "metadata": {},
   "outputs": [
    {
     "data": {
      "text/plain": [
       "0    The Diary of a Young Girl\n",
       "Name: title, dtype: object"
      ]
     },
     "execution_count": 10,
     "metadata": {},
     "output_type": "execute_result"
    }
   ],
   "source": [
    "#Q6: Which book (title) has the maximum number of ratings based on ‘work_ratings_count’.\n",
    "books[books[\"work_ratings_count\"]==max(books[\"work_ratings_count\"])][\"title\"]"
   ]
  },
  {
   "cell_type": "code",
   "execution_count": 11,
   "id": "59cfdc08-0fe5-4066-83e6-5c5d16ea2939",
   "metadata": {},
   "outputs": [
    {
     "data": {
      "text/plain": [
       "<Axes: title={'center': 'No of books in each bucket'}, xlabel='Rating Bucket', ylabel='No of Books'>"
      ]
     },
     "execution_count": 11,
     "metadata": {},
     "output_type": "execute_result"
    },
    {
     "data": {
      "image/png": "[encoded data removed]",
      "text/plain": [
       "<Figure size 640x480 with 1 Axes>"
      ]
     },
     "metadata": {},
     "output_type": "display_data"
    }
   ],
   "source": [
    "#Q7: Bucket the average_rating of books into 11 buckets \n",
    "#[0, 0.5, 1.0, 1.5, 2.0, 2.5, 3.0, 3.5, 4.0, 4.5, 5.0] with 0.5 decimal rounding \n",
    "#Plot bar graph to show total number of books in each rating bucket.\n",
    "books['rating_bucket'] = pd.cut(books['average_rating'], bins=[0, 0.5, 1.0, 1.5, 2.0, 2.5, 3.0, 3.5, 4.0, 4.5, 5.0], include_lowest=True, right=False)\n",
    "rating_counts = books['rating_bucket'].value_counts().sort_index()\n",
    "rating_counts.plot(kind='bar', color='skyblue', title='No of books in each bucket', xlabel='Rating Bucket', ylabel='No of Books')"
   ]
  },
  {
   "cell_type": "code",
   "execution_count": null,
   "id": "6275cbc7-15a2-474d-b14b-c37eb4a0dfd9",
   "metadata": {},
   "outputs": [],
   "source": []
  },
  {
   "cell_type": "code",
   "execution_count": null,
   "id": "834ba86a-8e59-413d-809c-788599ba947f",
   "metadata": {},
   "outputs": [],
   "source": []
  },
  {
   "cell_type": "code",
   "execution_count": null,
   "id": "1f56ff26-3aa6-4277-b029-0f63fe83f74d",
   "metadata": {},
   "outputs": [],
   "source": []
  }
 ],
 "metadata": {
  "kernelspec": {
   "display_name": "Python 3 (ipykernel)",
   "language": "python",
   "name": "python3"
  },
  "language_info": {
   "codemirror_mode": {
    "name": "ipython",
    "version": 3
   },
   "file_extension": ".py",
   "mimetype": "text/x-python",
   "name": "python",
   "nbconvert_exporter": "python",
   "pygments_lexer": "ipython3",
   "version": "3.9.2"
  }
 },
 "nbformat": 4,
 "nbformat_minor": 5
}
